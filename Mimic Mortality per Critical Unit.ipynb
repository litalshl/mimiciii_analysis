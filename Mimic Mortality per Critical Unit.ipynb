{
 "cells": [
  {
   "cell_type": "code",
   "execution_count": 66,
   "metadata": {},
   "outputs": [],
   "source": [
    "import pandas as pd"
   ]
  },
  {
   "cell_type": "code",
   "execution_count": 67,
   "metadata": {},
   "outputs": [],
   "source": [
    "import matplotlib.pyplot as plt\n",
    "import psycopg2\n",
    "import getpass"
   ]
  },
  {
   "cell_type": "code",
   "execution_count": 68,
   "metadata": {},
   "outputs": [],
   "source": [
    "%matplotlib inline\n",
    "plt.style.use('ggplot') "
   ]
  },
  {
   "cell_type": "code",
   "execution_count": 69,
   "metadata": {},
   "outputs": [],
   "source": [
    "# Create a database connection\n",
    "user = 'postgres'\n",
    "password = 'master'\n",
    "host = 'localhost'\n",
    "dbname = 'mimic'\n",
    "schema = 'mimiciii'"
   ]
  },
  {
   "cell_type": "code",
   "execution_count": 70,
   "metadata": {},
   "outputs": [],
   "source": [
    "# Connect to the database\n",
    "con = psycopg2.connect(dbname=dbname, user=user, host=host, \n",
    "                       password=password)\n",
    "cur = con.cursor()\n",
    "cur.execute('SET search_path to {}'.format(schema))"
   ]
  },
  {
   "cell_type": "code",
   "execution_count": 71,
   "metadata": {},
   "outputs": [],
   "source": [
    "# Get length of stay from the icustays table\n",
    "query = \\\n",
    "\"\"\"\n",
    "select first_careunit, count(distinct(p.subject_id)) as mortality_count\n",
    "from mimiciii.icustays ics inner join \n",
    "mimiciii.patients p on \n",
    "ics.subject_id = p.subject_id\n",
    "where dod_hosp is not null and first_careunit is not null\n",
    "group by first_careunit\n",
    "order by mortality_count desc\n",
    "\"\"\"\n",
    "\n",
    "data = pd.read_sql_query(query,con)"
   ]
  },
  {
   "cell_type": "code",
   "execution_count": 72,
   "metadata": {},
   "outputs": [
    {
     "data": {
      "text/html": [
       "<div>\n",
       "<style scoped>\n",
       "    .dataframe tbody tr th:only-of-type {\n",
       "        vertical-align: middle;\n",
       "    }\n",
       "\n",
       "    .dataframe tbody tr th {\n",
       "        vertical-align: top;\n",
       "    }\n",
       "\n",
       "    .dataframe thead th {\n",
       "        text-align: right;\n",
       "    }\n",
       "</style>\n",
       "<table border=\"1\" class=\"dataframe\">\n",
       "  <thead>\n",
       "    <tr style=\"text-align: right;\">\n",
       "      <th></th>\n",
       "      <th>first_careunit</th>\n",
       "      <th>mortality_count</th>\n",
       "    </tr>\n",
       "  </thead>\n",
       "  <tbody>\n",
       "    <tr>\n",
       "      <th>0</th>\n",
       "      <td>MICU</td>\n",
       "      <td>5423</td>\n",
       "    </tr>\n",
       "    <tr>\n",
       "      <th>1</th>\n",
       "      <td>SICU</td>\n",
       "      <td>2239</td>\n",
       "    </tr>\n",
       "    <tr>\n",
       "      <th>2</th>\n",
       "      <td>CCU</td>\n",
       "      <td>2234</td>\n",
       "    </tr>\n",
       "    <tr>\n",
       "      <th>3</th>\n",
       "      <td>TSICU</td>\n",
       "      <td>1282</td>\n",
       "    </tr>\n",
       "    <tr>\n",
       "      <th>4</th>\n",
       "      <td>CSRU</td>\n",
       "      <td>1146</td>\n",
       "    </tr>\n",
       "    <tr>\n",
       "      <th>5</th>\n",
       "      <td>NICU</td>\n",
       "      <td>64</td>\n",
       "    </tr>\n",
       "  </tbody>\n",
       "</table>\n",
       "</div>"
      ],
      "text/plain": [
       "  first_careunit  mortality_count\n",
       "0           MICU             5423\n",
       "1           SICU             2239\n",
       "2            CCU             2234\n",
       "3          TSICU             1282\n",
       "4           CSRU             1146\n",
       "5           NICU               64"
      ]
     },
     "execution_count": 72,
     "metadata": {},
     "output_type": "execute_result"
    }
   ],
   "source": [
    "# Display the first few rows of the data\n",
    "data.head(100)"
   ]
  },
  {
   "cell_type": "code",
   "execution_count": 73,
   "metadata": {},
   "outputs": [],
   "source": [
    "# Compute nissing values in each column\n",
    "#data.isnull().mean().sort_values(ascending=False)*100\n",
    "#avg_los = data.los.median()\n",
    "#print(avg_los)\n",
    "\n",
    "#for ind in data.index:\n",
    " #  fig, ax = plt.subplots(1,1)\n",
    "   #fig.set_size_inches(5,5)\n",
    "   #data.iloc[ind].plot(kind='pie', ax=ax, autopct='%1.1f%%')\n",
    "   #ax.set_ylabel('')\n",
    "   #ax.set_xlabel('')"
   ]
  },
  {
   "cell_type": "code",
   "execution_count": 74,
   "metadata": {},
   "outputs": [
    {
     "data": {
      "image/png": "[encoded data removed]",
      "text/plain": [
       "<Figure size 360x360 with 1 Axes>"
      ]
     },
     "metadata": {},
     "output_type": "display_data"
    }
   ],
   "source": [
    "# Plot the distribution\n",
    "\n",
    "diagnoses = data.set_index('first_careunit').plot.barh(y='mortality_count', figsize=(5, 5), color='blue')\n",
    "\n",
    "#plot = data.plot.pie(y='admission_count', figsize=(5, 5), legend=False, labels=data.admission_type)\n",
    "\n",
    "#diagnoses = data.groupby(['admission_type', 'admission_count']).admission_count.count().plot.pie(autopct='%1.1f%%')"
   ]
  },
  {
   "cell_type": "code",
   "execution_count": 75,
   "metadata": {},
   "outputs": [
    {
     "data": {
      "image/png": "[encoded data removed]",
      "text/plain": [
       "<Figure size 360x360 with 1 Axes>"
      ]
     },
     "metadata": {},
     "output_type": "display_data"
    }
   ],
   "source": [
    "plot = data.plot.pie(y='mortality_count', figsize=(5, 5), legend=False, labels=data.first_careunit, autopct='%1.1f%%')"
   ]
  },
  {
   "cell_type": "code",
   "execution_count": 76,
   "metadata": {},
   "outputs": [
    {
     "name": "stdout",
     "output_type": "stream",
     "text": [
      "12388\n"
     ]
    }
   ],
   "source": [
    "Total = sum(data.mortality_count)\n",
    "print Total"
   ]
  }
 ],
 "metadata": {
  "kernelspec": {
   "display_name": "Python 2",
   "language": "python",
   "name": "python2"
  },
  "language_info": {
   "codemirror_mode": {
    "name": "ipython",
    "version": 2
   },
   "file_extension": ".py",
   "mimetype": "text/x-python",
   "name": "python",
   "nbconvert_exporter": "python",
   "pygments_lexer": "ipython2",
   "version": "2.7.16"
  }
 },
 "nbformat": 4,
 "nbformat_minor": 2
}
